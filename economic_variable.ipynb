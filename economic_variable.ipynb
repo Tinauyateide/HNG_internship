{
 "cells": [
  {
   "cell_type": "markdown",
   "metadata": {},
   "source": [
    "## Data Collection"
   ]
  },
  {
   "cell_type": "markdown",
   "metadata": {},
   "source": [
    "Import Required Libraries"
   ]
  },
  {
   "cell_type": "code",
   "execution_count": 1,
   "metadata": {},
   "outputs": [
    {
     "name": "stdout",
     "output_type": "stream",
     "text": [
      "Requirement already satisfied: pandas in /home/tina/.local/lib/python3.8/site-packages (1.4.3)\n",
      "Requirement already satisfied: yfinance in /home/tina/.local/lib/python3.8/site-packages (0.2.41)\n",
      "Requirement already satisfied: python-dateutil>=2.8.1 in /home/tina/.local/lib/python3.8/site-packages (from pandas) (2.8.2)\n",
      "Requirement already satisfied: pytz>=2020.1 in /home/tina/.local/lib/python3.8/site-packages (from pandas) (2022.1)\n",
      "Requirement already satisfied: numpy>=1.18.5; platform_machine != \"aarch64\" and platform_machine != \"arm64\" and python_version < \"3.10\" in /home/tina/.local/lib/python3.8/site-packages (from pandas) (1.23.1)\n",
      "Requirement already satisfied: platformdirs>=2.0.0 in /home/tina/.local/lib/python3.8/site-packages (from yfinance) (2.5.2)\n",
      "Requirement already satisfied: lxml>=4.9.1 in /home/tina/.local/lib/python3.8/site-packages (from yfinance) (5.2.2)\n",
      "Requirement already satisfied: peewee>=3.16.2 in /home/tina/.local/lib/python3.8/site-packages (from yfinance) (3.17.6)\n",
      "Requirement already satisfied: html5lib>=1.1 in /home/tina/.local/lib/python3.8/site-packages (from yfinance) (1.1)\n",
      "Requirement already satisfied: frozendict>=2.3.4 in /home/tina/.local/lib/python3.8/site-packages (from yfinance) (2.4.4)\n",
      "Requirement already satisfied: multitasking>=0.0.7 in /home/tina/.local/lib/python3.8/site-packages (from yfinance) (0.0.11)\n",
      "Requirement already satisfied: beautifulsoup4>=4.11.1 in /home/tina/.local/lib/python3.8/site-packages (from yfinance) (4.11.1)\n",
      "Requirement already satisfied: requests>=2.31 in /home/tina/.local/lib/python3.8/site-packages (from yfinance) (2.32.3)\n",
      "Requirement already satisfied: six>=1.5 in /usr/lib/python3/dist-packages (from python-dateutil>=2.8.1->pandas) (1.14.0)\n",
      "Requirement already satisfied: webencodings in /home/tina/.local/lib/python3.8/site-packages (from html5lib>=1.1->yfinance) (0.5.1)\n",
      "Requirement already satisfied: soupsieve>1.2 in /home/tina/.local/lib/python3.8/site-packages (from beautifulsoup4>=4.11.1->yfinance) (2.3.2.post1)\n",
      "Requirement already satisfied: charset-normalizer<4,>=2 in /home/tina/.local/lib/python3.8/site-packages (from requests>=2.31->yfinance) (2.1.1)\n",
      "Requirement already satisfied: certifi>=2017.4.17 in /usr/lib/python3/dist-packages (from requests>=2.31->yfinance) (2019.11.28)\n",
      "Requirement already satisfied: urllib3<3,>=1.21.1 in /home/tina/.local/lib/python3.8/site-packages (from requests>=2.31->yfinance) (1.26.12)\n",
      "Requirement already satisfied: idna<4,>=2.5 in /usr/lib/python3/dist-packages (from requests>=2.31->yfinance) (2.8)\n",
      "Note: you may need to restart the kernel to use updated packages.\n"
     ]
    }
   ],
   "source": [
    "pip install pandas yfinance"
   ]
  },
  {
   "cell_type": "code",
   "execution_count": 2,
   "metadata": {},
   "outputs": [],
   "source": [
    "import pandas as pd\n",
    "import yfinance as yf"
   ]
  },
  {
   "cell_type": "markdown",
   "metadata": {},
   "source": [
    "# Get Stock Market Data:\n",
    "Use the yfinance library to download stock market data."
   ]
  },
  {
   "cell_type": "code",
   "execution_count": 3,
   "metadata": {},
   "outputs": [
    {
     "name": "stderr",
     "output_type": "stream",
     "text": [
      "[*********************100%%**********************]  1 of 1 completed\n"
     ]
    }
   ],
   "source": [
    "# Define the time period\n",
    "start_date = '2012-01-01'\n",
    "end_date = '2024-07-22'\n",
    "\n",
    "# Download USA stock market data\n",
    "usa_stock = yf.download('^GSPC', start=start_date, end=end_date)"
   ]
  },
  {
   "cell_type": "code",
   "execution_count": 4,
   "metadata": {},
   "outputs": [
    {
     "data": {
      "text/html": [
       "<div>\n",
       "<style scoped>\n",
       "    .dataframe tbody tr th:only-of-type {\n",
       "        vertical-align: middle;\n",
       "    }\n",
       "\n",
       "    .dataframe tbody tr th {\n",
       "        vertical-align: top;\n",
       "    }\n",
       "\n",
       "    .dataframe thead th {\n",
       "        text-align: right;\n",
       "    }\n",
       "</style>\n",
       "<table border=\"1\" class=\"dataframe\">\n",
       "  <thead>\n",
       "    <tr style=\"text-align: right;\">\n",
       "      <th></th>\n",
       "      <th>Open</th>\n",
       "      <th>High</th>\n",
       "      <th>Low</th>\n",
       "      <th>Close</th>\n",
       "      <th>Adj Close</th>\n",
       "      <th>Volume</th>\n",
       "    </tr>\n",
       "    <tr>\n",
       "      <th>Date</th>\n",
       "      <th></th>\n",
       "      <th></th>\n",
       "      <th></th>\n",
       "      <th></th>\n",
       "      <th></th>\n",
       "      <th></th>\n",
       "    </tr>\n",
       "  </thead>\n",
       "  <tbody>\n",
       "    <tr>\n",
       "      <th>2012-01-03</th>\n",
       "      <td>1258.859985</td>\n",
       "      <td>1284.619995</td>\n",
       "      <td>1258.859985</td>\n",
       "      <td>1277.060059</td>\n",
       "      <td>1277.060059</td>\n",
       "      <td>3943710000</td>\n",
       "    </tr>\n",
       "    <tr>\n",
       "      <th>2012-01-04</th>\n",
       "      <td>1277.030029</td>\n",
       "      <td>1278.729980</td>\n",
       "      <td>1268.099976</td>\n",
       "      <td>1277.300049</td>\n",
       "      <td>1277.300049</td>\n",
       "      <td>3592580000</td>\n",
       "    </tr>\n",
       "    <tr>\n",
       "      <th>2012-01-05</th>\n",
       "      <td>1277.300049</td>\n",
       "      <td>1283.050049</td>\n",
       "      <td>1265.260010</td>\n",
       "      <td>1281.060059</td>\n",
       "      <td>1281.060059</td>\n",
       "      <td>4315950000</td>\n",
       "    </tr>\n",
       "    <tr>\n",
       "      <th>2012-01-06</th>\n",
       "      <td>1280.930054</td>\n",
       "      <td>1281.839966</td>\n",
       "      <td>1273.339966</td>\n",
       "      <td>1277.810059</td>\n",
       "      <td>1277.810059</td>\n",
       "      <td>3656830000</td>\n",
       "    </tr>\n",
       "    <tr>\n",
       "      <th>2012-01-09</th>\n",
       "      <td>1277.829956</td>\n",
       "      <td>1281.989990</td>\n",
       "      <td>1274.550049</td>\n",
       "      <td>1280.699951</td>\n",
       "      <td>1280.699951</td>\n",
       "      <td>3371600000</td>\n",
       "    </tr>\n",
       "    <tr>\n",
       "      <th>...</th>\n",
       "      <td>...</td>\n",
       "      <td>...</td>\n",
       "      <td>...</td>\n",
       "      <td>...</td>\n",
       "      <td>...</td>\n",
       "      <td>...</td>\n",
       "    </tr>\n",
       "    <tr>\n",
       "      <th>2024-07-15</th>\n",
       "      <td>5638.160156</td>\n",
       "      <td>5666.939941</td>\n",
       "      <td>5614.750000</td>\n",
       "      <td>5631.220215</td>\n",
       "      <td>5631.220215</td>\n",
       "      <td>3620470000</td>\n",
       "    </tr>\n",
       "    <tr>\n",
       "      <th>2024-07-16</th>\n",
       "      <td>5644.089844</td>\n",
       "      <td>5669.669922</td>\n",
       "      <td>5639.020020</td>\n",
       "      <td>5667.200195</td>\n",
       "      <td>5667.200195</td>\n",
       "      <td>4041760000</td>\n",
       "    </tr>\n",
       "    <tr>\n",
       "      <th>2024-07-17</th>\n",
       "      <td>5610.069824</td>\n",
       "      <td>5622.490234</td>\n",
       "      <td>5584.810059</td>\n",
       "      <td>5588.270020</td>\n",
       "      <td>5588.270020</td>\n",
       "      <td>4246450000</td>\n",
       "    </tr>\n",
       "    <tr>\n",
       "      <th>2024-07-18</th>\n",
       "      <td>5608.560059</td>\n",
       "      <td>5614.049805</td>\n",
       "      <td>5522.810059</td>\n",
       "      <td>5544.589844</td>\n",
       "      <td>5544.589844</td>\n",
       "      <td>4007510000</td>\n",
       "    </tr>\n",
       "    <tr>\n",
       "      <th>2024-07-19</th>\n",
       "      <td>5543.370117</td>\n",
       "      <td>5557.500000</td>\n",
       "      <td>5497.040039</td>\n",
       "      <td>5505.000000</td>\n",
       "      <td>5505.000000</td>\n",
       "      <td>3760570000</td>\n",
       "    </tr>\n",
       "  </tbody>\n",
       "</table>\n",
       "<p>3156 rows × 6 columns</p>\n",
       "</div>"
      ],
      "text/plain": [
       "                   Open         High          Low        Close    Adj Close  \\\n",
       "Date                                                                          \n",
       "2012-01-03  1258.859985  1284.619995  1258.859985  1277.060059  1277.060059   \n",
       "2012-01-04  1277.030029  1278.729980  1268.099976  1277.300049  1277.300049   \n",
       "2012-01-05  1277.300049  1283.050049  1265.260010  1281.060059  1281.060059   \n",
       "2012-01-06  1280.930054  1281.839966  1273.339966  1277.810059  1277.810059   \n",
       "2012-01-09  1277.829956  1281.989990  1274.550049  1280.699951  1280.699951   \n",
       "...                 ...          ...          ...          ...          ...   \n",
       "2024-07-15  5638.160156  5666.939941  5614.750000  5631.220215  5631.220215   \n",
       "2024-07-16  5644.089844  5669.669922  5639.020020  5667.200195  5667.200195   \n",
       "2024-07-17  5610.069824  5622.490234  5584.810059  5588.270020  5588.270020   \n",
       "2024-07-18  5608.560059  5614.049805  5522.810059  5544.589844  5544.589844   \n",
       "2024-07-19  5543.370117  5557.500000  5497.040039  5505.000000  5505.000000   \n",
       "\n",
       "                Volume  \n",
       "Date                    \n",
       "2012-01-03  3943710000  \n",
       "2012-01-04  3592580000  \n",
       "2012-01-05  4315950000  \n",
       "2012-01-06  3656830000  \n",
       "2012-01-09  3371600000  \n",
       "...                ...  \n",
       "2024-07-15  3620470000  \n",
       "2024-07-16  4041760000  \n",
       "2024-07-17  4246450000  \n",
       "2024-07-18  4007510000  \n",
       "2024-07-19  3760570000  \n",
       "\n",
       "[3156 rows x 6 columns]"
      ]
     },
     "execution_count": 4,
     "metadata": {},
     "output_type": "execute_result"
    }
   ],
   "source": [
    "usa_stock"
   ]
  },
  {
   "cell_type": "markdown",
   "metadata": {},
   "source": [
    "# Fetch Data Using API:\n",
    "\n",
    "we will be using the FRED API to get M1 money supply data"
   ]
  },
  {
   "cell_type": "code",
   "execution_count": 5,
   "metadata": {},
   "outputs": [
    {
     "name": "stdout",
     "output_type": "stream",
     "text": [
      "           realtime_start realtime_end  value\n",
      "date                                         \n",
      "1975-01-06     2024-07-18   2024-07-18  273.4\n",
      "1975-01-13     2024-07-18   2024-07-18  273.7\n",
      "1975-01-20     2024-07-18   2024-07-18  273.8\n",
      "1975-01-27     2024-07-18   2024-07-18  273.7\n",
      "1975-02-03     2024-07-18   2024-07-18  275.2\n"
     ]
    }
   ],
   "source": [
    "import requests\n",
    "import pandas as pd\n",
    "\n",
    "# Define the API endpoint and your API key\n",
    "api_key = '9a15b95c11590cad09e6f019e334b6ed'\n",
    "url = f'https://api.stlouisfed.org/fred/series/observations?series_id=M1&api_key={api_key}&file_type=json'\n",
    "\n",
    "# Make a request to the API\n",
    "response = requests.get(url)\n",
    "\n",
    "# Check if the request was successful\n",
    "if response.status_code == 200:\n",
    "    # Parse the JSON data\n",
    "    data = response.json()\n",
    "\n",
    "    # Convert the data to a DataFrame\n",
    "    m1_data_usa = pd.DataFrame(data['observations'])\n",
    "    m1_data_usa['date'] = pd.to_datetime(m1_data_usa['date'])\n",
    "    m1_data_usa.set_index('date', inplace=True)\n",
    "    m1_data_usa['value'] = m1_data_usa['value'].astype(float)\n",
    "\n",
    "    # Print the data\n",
    "    print(m1_data_usa.head())  # Print the first few rows of the DataFrame\n",
    "else:\n",
    "    print(f\"Failed to fetch data: {response.status_code}\")"
   ]
  },
  {
   "cell_type": "code",
   "execution_count": 6,
   "metadata": {},
   "outputs": [
    {
     "data": {
      "text/html": [
       "<div>\n",
       "<style scoped>\n",
       "    .dataframe tbody tr th:only-of-type {\n",
       "        vertical-align: middle;\n",
       "    }\n",
       "\n",
       "    .dataframe tbody tr th {\n",
       "        vertical-align: top;\n",
       "    }\n",
       "\n",
       "    .dataframe thead th {\n",
       "        text-align: right;\n",
       "    }\n",
       "</style>\n",
       "<table border=\"1\" class=\"dataframe\">\n",
       "  <thead>\n",
       "    <tr style=\"text-align: right;\">\n",
       "      <th></th>\n",
       "      <th>realtime_start</th>\n",
       "      <th>realtime_end</th>\n",
       "      <th>value</th>\n",
       "    </tr>\n",
       "    <tr>\n",
       "      <th>date</th>\n",
       "      <th></th>\n",
       "      <th></th>\n",
       "      <th></th>\n",
       "    </tr>\n",
       "  </thead>\n",
       "  <tbody>\n",
       "    <tr>\n",
       "      <th>1975-01-06</th>\n",
       "      <td>2024-07-18</td>\n",
       "      <td>2024-07-18</td>\n",
       "      <td>273.4</td>\n",
       "    </tr>\n",
       "    <tr>\n",
       "      <th>1975-01-13</th>\n",
       "      <td>2024-07-18</td>\n",
       "      <td>2024-07-18</td>\n",
       "      <td>273.7</td>\n",
       "    </tr>\n",
       "    <tr>\n",
       "      <th>1975-01-20</th>\n",
       "      <td>2024-07-18</td>\n",
       "      <td>2024-07-18</td>\n",
       "      <td>273.8</td>\n",
       "    </tr>\n",
       "    <tr>\n",
       "      <th>1975-01-27</th>\n",
       "      <td>2024-07-18</td>\n",
       "      <td>2024-07-18</td>\n",
       "      <td>273.7</td>\n",
       "    </tr>\n",
       "    <tr>\n",
       "      <th>1975-02-03</th>\n",
       "      <td>2024-07-18</td>\n",
       "      <td>2024-07-18</td>\n",
       "      <td>275.2</td>\n",
       "    </tr>\n",
       "    <tr>\n",
       "      <th>...</th>\n",
       "      <td>...</td>\n",
       "      <td>...</td>\n",
       "      <td>...</td>\n",
       "    </tr>\n",
       "    <tr>\n",
       "      <th>2021-01-04</th>\n",
       "      <td>2024-07-18</td>\n",
       "      <td>2024-07-18</td>\n",
       "      <td>17757.1</td>\n",
       "    </tr>\n",
       "    <tr>\n",
       "      <th>2021-01-11</th>\n",
       "      <td>2024-07-18</td>\n",
       "      <td>2024-07-18</td>\n",
       "      <td>18127.3</td>\n",
       "    </tr>\n",
       "    <tr>\n",
       "      <th>2021-01-18</th>\n",
       "      <td>2024-07-18</td>\n",
       "      <td>2024-07-18</td>\n",
       "      <td>18134.6</td>\n",
       "    </tr>\n",
       "    <tr>\n",
       "      <th>2021-01-25</th>\n",
       "      <td>2024-07-18</td>\n",
       "      <td>2024-07-18</td>\n",
       "      <td>18089.5</td>\n",
       "    </tr>\n",
       "    <tr>\n",
       "      <th>2021-02-01</th>\n",
       "      <td>2024-07-18</td>\n",
       "      <td>2024-07-18</td>\n",
       "      <td>18085.9</td>\n",
       "    </tr>\n",
       "  </tbody>\n",
       "</table>\n",
       "<p>2405 rows × 3 columns</p>\n",
       "</div>"
      ],
      "text/plain": [
       "           realtime_start realtime_end    value\n",
       "date                                           \n",
       "1975-01-06     2024-07-18   2024-07-18    273.4\n",
       "1975-01-13     2024-07-18   2024-07-18    273.7\n",
       "1975-01-20     2024-07-18   2024-07-18    273.8\n",
       "1975-01-27     2024-07-18   2024-07-18    273.7\n",
       "1975-02-03     2024-07-18   2024-07-18    275.2\n",
       "...                   ...          ...      ...\n",
       "2021-01-04     2024-07-18   2024-07-18  17757.1\n",
       "2021-01-11     2024-07-18   2024-07-18  18127.3\n",
       "2021-01-18     2024-07-18   2024-07-18  18134.6\n",
       "2021-01-25     2024-07-18   2024-07-18  18089.5\n",
       "2021-02-01     2024-07-18   2024-07-18  18085.9\n",
       "\n",
       "[2405 rows x 3 columns]"
      ]
     },
     "execution_count": 6,
     "metadata": {},
     "output_type": "execute_result"
    }
   ],
   "source": [
    "m1_data_usa"
   ]
  },
  {
   "cell_type": "markdown",
   "metadata": {},
   "source": [
    "# Loading Other Economic Data"
   ]
  },
  {
   "cell_type": "code",
   "execution_count": 7,
   "metadata": {},
   "outputs": [],
   "source": [
    "inflation_usa = pd.read_excel('/home/tina/Self_Projects/HistoricalPrices.xlsx', 'Inflation Rate USA')"
   ]
  },
  {
   "cell_type": "code",
   "execution_count": 8,
   "metadata": {},
   "outputs": [
    {
     "data": {
      "text/html": [
       "<div>\n",
       "<style scoped>\n",
       "    .dataframe tbody tr th:only-of-type {\n",
       "        vertical-align: middle;\n",
       "    }\n",
       "\n",
       "    .dataframe tbody tr th {\n",
       "        vertical-align: top;\n",
       "    }\n",
       "\n",
       "    .dataframe thead th {\n",
       "        text-align: right;\n",
       "    }\n",
       "</style>\n",
       "<table border=\"1\" class=\"dataframe\">\n",
       "  <thead>\n",
       "    <tr style=\"text-align: right;\">\n",
       "      <th></th>\n",
       "      <th>Date</th>\n",
       "      <th>All Items</th>\n",
       "    </tr>\n",
       "  </thead>\n",
       "  <tbody>\n",
       "    <tr>\n",
       "      <th>0</th>\n",
       "      <td>1/6/2004</td>\n",
       "      <td>0.033</td>\n",
       "    </tr>\n",
       "    <tr>\n",
       "      <th>1</th>\n",
       "      <td>1/7/2004</td>\n",
       "      <td>0.030</td>\n",
       "    </tr>\n",
       "    <tr>\n",
       "      <th>2</th>\n",
       "      <td>1/8/2004</td>\n",
       "      <td>0.027</td>\n",
       "    </tr>\n",
       "    <tr>\n",
       "      <th>3</th>\n",
       "      <td>1/9/2004</td>\n",
       "      <td>0.025</td>\n",
       "    </tr>\n",
       "    <tr>\n",
       "      <th>4</th>\n",
       "      <td>1/10/2004</td>\n",
       "      <td>0.032</td>\n",
       "    </tr>\n",
       "    <tr>\n",
       "      <th>...</th>\n",
       "      <td>...</td>\n",
       "      <td>...</td>\n",
       "    </tr>\n",
       "    <tr>\n",
       "      <th>236</th>\n",
       "      <td>1/2/2024</td>\n",
       "      <td>0.032</td>\n",
       "    </tr>\n",
       "    <tr>\n",
       "      <th>237</th>\n",
       "      <td>1/3/2024</td>\n",
       "      <td>0.035</td>\n",
       "    </tr>\n",
       "    <tr>\n",
       "      <th>238</th>\n",
       "      <td>1/4/2024</td>\n",
       "      <td>0.034</td>\n",
       "    </tr>\n",
       "    <tr>\n",
       "      <th>239</th>\n",
       "      <td>1/5/2024</td>\n",
       "      <td>0.033</td>\n",
       "    </tr>\n",
       "    <tr>\n",
       "      <th>240</th>\n",
       "      <td>1/6/2024</td>\n",
       "      <td>0.030</td>\n",
       "    </tr>\n",
       "  </tbody>\n",
       "</table>\n",
       "<p>241 rows × 2 columns</p>\n",
       "</div>"
      ],
      "text/plain": [
       "          Date  All Items\n",
       "0     1/6/2004      0.033\n",
       "1     1/7/2004      0.030\n",
       "2     1/8/2004      0.027\n",
       "3     1/9/2004      0.025\n",
       "4    1/10/2004      0.032\n",
       "..         ...        ...\n",
       "236   1/2/2024      0.032\n",
       "237   1/3/2024      0.035\n",
       "238   1/4/2024      0.034\n",
       "239   1/5/2024      0.033\n",
       "240   1/6/2024      0.030\n",
       "\n",
       "[241 rows x 2 columns]"
      ]
     },
     "execution_count": 8,
     "metadata": {},
     "output_type": "execute_result"
    }
   ],
   "source": [
    "inflation_usa"
   ]
  },
  {
   "cell_type": "code",
   "execution_count": 9,
   "metadata": {},
   "outputs": [],
   "source": [
    "exchange_rate_usa = pd.read_csv('/home/tina/Self_Projects/DEXUSEU.csv')"
   ]
  },
  {
   "cell_type": "code",
   "execution_count": 10,
   "metadata": {},
   "outputs": [
    {
     "data": {
      "text/html": [
       "<div>\n",
       "<style scoped>\n",
       "    .dataframe tbody tr th:only-of-type {\n",
       "        vertical-align: middle;\n",
       "    }\n",
       "\n",
       "    .dataframe tbody tr th {\n",
       "        vertical-align: top;\n",
       "    }\n",
       "\n",
       "    .dataframe thead th {\n",
       "        text-align: right;\n",
       "    }\n",
       "</style>\n",
       "<table border=\"1\" class=\"dataframe\">\n",
       "  <thead>\n",
       "    <tr style=\"text-align: right;\">\n",
       "      <th></th>\n",
       "      <th>DATE</th>\n",
       "      <th>DEXUSEU</th>\n",
       "    </tr>\n",
       "  </thead>\n",
       "  <tbody>\n",
       "    <tr>\n",
       "      <th>0</th>\n",
       "      <td>2019-07-19</td>\n",
       "      <td>1.122</td>\n",
       "    </tr>\n",
       "    <tr>\n",
       "      <th>1</th>\n",
       "      <td>2019-07-22</td>\n",
       "      <td>1.1214</td>\n",
       "    </tr>\n",
       "    <tr>\n",
       "      <th>2</th>\n",
       "      <td>2019-07-23</td>\n",
       "      <td>1.1156</td>\n",
       "    </tr>\n",
       "    <tr>\n",
       "      <th>3</th>\n",
       "      <td>2019-07-24</td>\n",
       "      <td>1.1141</td>\n",
       "    </tr>\n",
       "    <tr>\n",
       "      <th>4</th>\n",
       "      <td>2019-07-25</td>\n",
       "      <td>1.1156</td>\n",
       "    </tr>\n",
       "    <tr>\n",
       "      <th>...</th>\n",
       "      <td>...</td>\n",
       "      <td>...</td>\n",
       "    </tr>\n",
       "    <tr>\n",
       "      <th>1301</th>\n",
       "      <td>2024-07-15</td>\n",
       "      <td>1.0912</td>\n",
       "    </tr>\n",
       "    <tr>\n",
       "      <th>1302</th>\n",
       "      <td>2024-07-16</td>\n",
       "      <td>1.0885</td>\n",
       "    </tr>\n",
       "    <tr>\n",
       "      <th>1303</th>\n",
       "      <td>2024-07-17</td>\n",
       "      <td>1.0933</td>\n",
       "    </tr>\n",
       "    <tr>\n",
       "      <th>1304</th>\n",
       "      <td>2024-07-18</td>\n",
       "      <td>1.0913</td>\n",
       "    </tr>\n",
       "    <tr>\n",
       "      <th>1305</th>\n",
       "      <td>2024-07-19</td>\n",
       "      <td>1.0888</td>\n",
       "    </tr>\n",
       "  </tbody>\n",
       "</table>\n",
       "<p>1306 rows × 2 columns</p>\n",
       "</div>"
      ],
      "text/plain": [
       "            DATE DEXUSEU\n",
       "0     2019-07-19   1.122\n",
       "1     2019-07-22  1.1214\n",
       "2     2019-07-23  1.1156\n",
       "3     2019-07-24  1.1141\n",
       "4     2019-07-25  1.1156\n",
       "...          ...     ...\n",
       "1301  2024-07-15  1.0912\n",
       "1302  2024-07-16  1.0885\n",
       "1303  2024-07-17  1.0933\n",
       "1304  2024-07-18  1.0913\n",
       "1305  2024-07-19  1.0888\n",
       "\n",
       "[1306 rows x 2 columns]"
      ]
     },
     "execution_count": 10,
     "metadata": {},
     "output_type": "execute_result"
    }
   ],
   "source": [
    "exchange_rate_usa"
   ]
  },
  {
   "cell_type": "markdown",
   "metadata": {},
   "source": [
    "# Data Cleaning \n",
    "\n",
    "Checking Data Columns"
   ]
  },
  {
   "cell_type": "code",
   "execution_count": 11,
   "metadata": {},
   "outputs": [
    {
     "name": "stdout",
     "output_type": "stream",
     "text": [
      "Index(['Open', 'High', 'Low', 'Close', 'Adj Close', 'Volume'], dtype='object')\n"
     ]
    }
   ],
   "source": [
    "print(usa_stock.columns)"
   ]
  },
  {
   "cell_type": "code",
   "execution_count": 12,
   "metadata": {},
   "outputs": [],
   "source": [
    "# Reset the index to make the date a column\n",
    "usa_stock.reset_index(inplace=True)\n",
    "\n",
    "# Rename the index column to 'Date' if necessary\n",
    "usa_stock.rename(columns={'index': 'Date'}, inplace=True)\n",
    "\n",
    "# Now convert the 'Date' column to datetime format\n",
    "usa_stock['Date'] = pd.to_datetime(usa_stock['Date'])"
   ]
  },
  {
   "cell_type": "code",
   "execution_count": 13,
   "metadata": {},
   "outputs": [
    {
     "name": "stdout",
     "output_type": "stream",
     "text": [
      "Index(['Date', 'Open', 'High', 'Low', 'Close', 'Adj Close', 'Volume'], dtype='object')\n"
     ]
    }
   ],
   "source": [
    "print(usa_stock.columns)"
   ]
  },
  {
   "cell_type": "code",
   "execution_count": 14,
   "metadata": {},
   "outputs": [
    {
     "name": "stdout",
     "output_type": "stream",
     "text": [
      "Index(['realtime_start', 'realtime_end', 'value'], dtype='object')\n"
     ]
    }
   ],
   "source": [
    "print(m1_data_usa.columns)"
   ]
  },
  {
   "cell_type": "code",
   "execution_count": 15,
   "metadata": {},
   "outputs": [],
   "source": [
    "# Reset the index to make the date a column\n",
    "m1_data_usa.reset_index(inplace=True)\n",
    "\n",
    "# Rename the index column to 'Date' if necessary\n",
    "m1_data_usa.rename(columns={'index': 'Date'}, inplace=True)\n",
    "\n",
    "# Now convert the 'Date' column to datetime format\n",
    "m1_data_usa['date'] = pd.to_datetime(m1_data_usa['date'])"
   ]
  },
  {
   "cell_type": "code",
   "execution_count": 16,
   "metadata": {},
   "outputs": [
    {
     "name": "stdout",
     "output_type": "stream",
     "text": [
      "Index(['date', 'realtime_start', 'realtime_end', 'value'], dtype='object')\n"
     ]
    }
   ],
   "source": [
    "print(m1_data_usa.columns)"
   ]
  },
  {
   "cell_type": "code",
   "execution_count": 17,
   "metadata": {},
   "outputs": [],
   "source": [
    "# Ensure consistent column names before merging\n",
    "m1_data_usa.rename(columns={'date': 'Date'}, inplace=True)\n",
    "exchange_rate_usa.rename(columns={'DATE': 'Date'}, inplace=True)"
   ]
  },
  {
   "cell_type": "code",
   "execution_count": 18,
   "metadata": {},
   "outputs": [
    {
     "name": "stdout",
     "output_type": "stream",
     "text": [
      "        Date         Open         High          Low        Close    Adj Close  \\\n",
      "0 1975-01-06  1258.859985  1284.619995  1258.859985  1277.060059  1277.060059   \n",
      "1 1975-01-13  1258.859985  1284.619995  1258.859985  1277.060059  1277.060059   \n",
      "2 1975-01-20  1258.859985  1284.619995  1258.859985  1277.060059  1277.060059   \n",
      "3 1975-01-27  1258.859985  1284.619995  1258.859985  1277.060059  1277.060059   \n",
      "4 1975-02-03  1258.859985  1284.619995  1258.859985  1277.060059  1277.060059   \n",
      "\n",
      "         Volume  All Items realtime_start realtime_end  value DEXUSEU  \n",
      "0  3.943710e+09      0.033     2024-07-18   2024-07-18  273.4   1.122  \n",
      "1  3.943710e+09      0.033     2024-07-18   2024-07-18  273.7   1.122  \n",
      "2  3.943710e+09      0.033     2024-07-18   2024-07-18  273.8   1.122  \n",
      "3  3.943710e+09      0.033     2024-07-18   2024-07-18  273.7   1.122  \n",
      "4  3.943710e+09      0.033     2024-07-18   2024-07-18  275.2   1.122  \n"
     ]
    }
   ],
   "source": [
    "# Convert Date columns to datetime\n",
    "usa_stock['Date'] = pd.to_datetime(usa_stock['Date'])\n",
    "inflation_usa['Date'] = pd.to_datetime(inflation_usa['Date'])\n",
    "m1_data_usa['Date'] = pd.to_datetime(m1_data_usa['Date'])\n",
    "exchange_rate_usa['Date'] = pd.to_datetime(exchange_rate_usa['Date'])\n",
    "\n",
    "# Merge the datasets\n",
    "merged_data = pd.merge(usa_stock, inflation_usa, on='Date', how='outer')\n",
    "merged_data = pd.merge(merged_data, m1_data_usa, on='Date', how='outer')\n",
    "merged_data = pd.merge(merged_data, exchange_rate_usa, on='Date', how='outer')\n",
    "\n",
    "# Sort the data by date\n",
    "merged_data = merged_data.sort_values('Date').reset_index(drop=True)\n",
    "\n",
    "# Handle missing values (example: forward fill)\n",
    "merged_data = merged_data.fillna(method='ffill')\n",
    "merged_data = merged_data.fillna(method='bfill')\n",
    "\n",
    "# Display the first few rows of the merged data\n",
    "print(merged_data.head())\n",
    "\n",
    "# Save the merged data to a new CSV file\n",
    "merged_data.to_csv('merged_data.csv', index=False)"
   ]
  },
  {
   "cell_type": "code",
   "execution_count": 19,
   "metadata": {},
   "outputs": [
    {
     "name": "stdout",
     "output_type": "stream",
     "text": [
      "        Date   Stock_Open   Stock_High    Stock_Low  Stock_Close  \\\n",
      "0 1975-01-06  1258.859985  1284.619995  1258.859985  1277.060059   \n",
      "1 1975-01-13  1258.859985  1284.619995  1258.859985  1277.060059   \n",
      "2 1975-01-20  1258.859985  1284.619995  1258.859985  1277.060059   \n",
      "3 1975-01-27  1258.859985  1284.619995  1258.859985  1277.060059   \n",
      "4 1975-02-03  1258.859985  1284.619995  1258.859985  1277.060059   \n",
      "\n",
      "   Stock_Adj_Close  Stock_Volume  Inflation     M1 Exchange_Rate  \n",
      "0      1277.060059  3.943710e+09      0.033  273.4         1.122  \n",
      "1      1277.060059  3.943710e+09      0.033  273.7         1.122  \n",
      "2      1277.060059  3.943710e+09      0.033  273.8         1.122  \n",
      "3      1277.060059  3.943710e+09      0.033  273.7         1.122  \n",
      "4      1277.060059  3.943710e+09      0.033  275.2         1.122  \n"
     ]
    }
   ],
   "source": [
    "# Rename columns\n",
    "merged_data.rename(columns={\n",
    "    'Open': 'Stock_Open',\n",
    "    'High': 'Stock_High',\n",
    "    'Low': 'Stock_Low',\n",
    "    'Close': 'Stock_Close',\n",
    "    'Adj Close': 'Stock_Adj_Close',\n",
    "    'Volume': 'Stock_Volume',\n",
    "    'All Items': 'Inflation',\n",
    "    'value': 'M1',\n",
    "    'DEXUSEU': 'Exchange_Rate'\n",
    "}, inplace=True)\n",
    "\n",
    "# Drop redundant 'DATE' column\n",
    "merged_data.drop(columns=['realtime_start', 'realtime_end'], inplace=True)\n",
    "\n",
    "# Display the updated dataframe\n",
    "print(merged_data.head())"
   ]
  },
  {
   "cell_type": "code",
   "execution_count": 20,
   "metadata": {},
   "outputs": [
    {
     "name": "stdout",
     "output_type": "stream",
     "text": [
      "        Date  Stock_Close  Inflation     M1 Exchange_Rate\n",
      "0 1975-01-06  1277.060059      0.033  273.4         1.122\n",
      "1 1975-01-13  1277.060059      0.033  273.7         1.122\n",
      "2 1975-01-20  1277.060059      0.033  273.8         1.122\n",
      "3 1975-01-27  1277.060059      0.033  273.7         1.122\n",
      "4 1975-02-03  1277.060059      0.033  275.2         1.122\n"
     ]
    }
   ],
   "source": [
    "# Keeping only necessary columns for analysis\n",
    "new_data = merged_data[['Date', 'Stock_Close', 'Inflation', 'M1', 'Exchange_Rate']]\n",
    "\n",
    "# Display the cleaned dataframe\n",
    "print(new_data.head())"
   ]
  },
  {
   "cell_type": "code",
   "execution_count": 21,
   "metadata": {},
   "outputs": [
    {
     "data": {
      "text/plain": [
       "Date             datetime64[ns]\n",
       "Stock_Close             float64\n",
       "Inflation               float64\n",
       "M1                      float64\n",
       "Exchange_Rate            object\n",
       "dtype: object"
      ]
     },
     "execution_count": 21,
     "metadata": {},
     "output_type": "execute_result"
    }
   ],
   "source": [
    "# Check for missing values\n",
    "new_data.isnull().sum()\n",
    "new_data.dtypes"
   ]
  },
  {
   "cell_type": "code",
   "execution_count": 22,
   "metadata": {},
   "outputs": [
    {
     "name": "stdout",
     "output_type": "stream",
     "text": [
      "Date             datetime64[ns]\n",
      "Stock_Close             float64\n",
      "Inflation               float64\n",
      "M1                      float64\n",
      "Exchange_Rate           float64\n",
      "dtype: object\n",
      "        Date  Stock_Close  Inflation     M1  Exchange_Rate\n",
      "0 1975-01-06  1277.060059      0.033  273.4          1.122\n",
      "1 1975-01-13  1277.060059      0.033  273.7          1.122\n",
      "2 1975-01-20  1277.060059      0.033  273.8          1.122\n",
      "3 1975-01-27  1277.060059      0.033  273.7          1.122\n",
      "4 1975-02-03  1277.060059      0.033  275.2          1.122\n"
     ]
    },
    {
     "name": "stderr",
     "output_type": "stream",
     "text": [
      "/tmp/ipykernel_8423/1987961353.py:2: SettingWithCopyWarning: \n",
      "A value is trying to be set on a copy of a slice from a DataFrame.\n",
      "Try using .loc[row_indexer,col_indexer] = value instead\n",
      "\n",
      "See the caveats in the documentation: https://pandas.pydata.org/pandas-docs/stable/user_guide/indexing.html#returning-a-view-versus-a-copy\n",
      "  new_data['Stock_Close'] = pd.to_numeric(new_data['Stock_Close'], errors='coerce')\n",
      "/tmp/ipykernel_8423/1987961353.py:3: SettingWithCopyWarning: \n",
      "A value is trying to be set on a copy of a slice from a DataFrame.\n",
      "Try using .loc[row_indexer,col_indexer] = value instead\n",
      "\n",
      "See the caveats in the documentation: https://pandas.pydata.org/pandas-docs/stable/user_guide/indexing.html#returning-a-view-versus-a-copy\n",
      "  new_data['Inflation'] = pd.to_numeric(new_data['Inflation'], errors='coerce')\n",
      "/tmp/ipykernel_8423/1987961353.py:4: SettingWithCopyWarning: \n",
      "A value is trying to be set on a copy of a slice from a DataFrame.\n",
      "Try using .loc[row_indexer,col_indexer] = value instead\n",
      "\n",
      "See the caveats in the documentation: https://pandas.pydata.org/pandas-docs/stable/user_guide/indexing.html#returning-a-view-versus-a-copy\n",
      "  new_data['M1'] = pd.to_numeric(new_data['M1'], errors='coerce')\n",
      "/tmp/ipykernel_8423/1987961353.py:5: SettingWithCopyWarning: \n",
      "A value is trying to be set on a copy of a slice from a DataFrame.\n",
      "Try using .loc[row_indexer,col_indexer] = value instead\n",
      "\n",
      "See the caveats in the documentation: https://pandas.pydata.org/pandas-docs/stable/user_guide/indexing.html#returning-a-view-versus-a-copy\n",
      "  new_data['Exchange_Rate'] = pd.to_numeric(new_data['Exchange_Rate'], errors='coerce')\n",
      "/tmp/ipykernel_8423/1987961353.py:8: SettingWithCopyWarning: \n",
      "A value is trying to be set on a copy of a slice from a DataFrame\n",
      "\n",
      "See the caveats in the documentation: https://pandas.pydata.org/pandas-docs/stable/user_guide/indexing.html#returning-a-view-versus-a-copy\n",
      "  new_data.fillna(0, inplace=True)\n"
     ]
    }
   ],
   "source": [
    "# Convert columns to numeric if they are not already\n",
    "new_data['Stock_Close'] = pd.to_numeric(new_data['Stock_Close'], errors='coerce')\n",
    "new_data['Inflation'] = pd.to_numeric(new_data['Inflation'], errors='coerce')\n",
    "new_data['M1'] = pd.to_numeric(new_data['M1'], errors='coerce')\n",
    "new_data['Exchange_Rate'] = pd.to_numeric(new_data['Exchange_Rate'], errors='coerce')\n",
    "\n",
    "# Handle NaN values (e.g., fill with a specific value or drop)\n",
    "new_data.fillna(0, inplace=True) \n",
    "\n",
    "# Display the cleaned dataframe\n",
    "print(new_data.dtypes)\n",
    "print(new_data.head())"
   ]
  },
  {
   "cell_type": "markdown",
   "metadata": {},
   "source": [
    "# Plot the Variables:\n",
    "Line charts to visualize trends over time."
   ]
  },
  {
   "cell_type": "code",
   "execution_count": 23,
   "metadata": {},
   "outputs": [
    {
     "data": {
      "image/png": "[encoded data removed]",
      "text/plain": [
       "<Figure size 1152x720 with 4 Axes>"
      ]
     },
     "metadata": {
      "needs_background": "light"
     },
     "output_type": "display_data"
    }
   ],
   "source": [
    "import matplotlib.pyplot as plt\n",
    "import seaborn as sns\n",
    "\n",
    "# Plot each variable over time\n",
    "plt.figure(figsize=(16, 10))\n",
    "\n",
    "plt.subplot(2, 2, 1)\n",
    "sns.lineplot(x='Date', y='Stock_Close', data=new_data)\n",
    "plt.title('Stock Market Close Value Over Time')\n",
    "\n",
    "plt.subplot(2, 2, 2)\n",
    "sns.lineplot(x='Date', y='Inflation', data=new_data)\n",
    "plt.title('Inflation Rate Over Time')\n",
    "\n",
    "plt.subplot(2, 2, 3)\n",
    "sns.lineplot(x='Date', y='M1', data=new_data)\n",
    "plt.title('M1 Money Supply Over Time')\n",
    "\n",
    "plt.subplot(2, 2, 4)\n",
    "sns.lineplot(x='Date', y='Exchange_Rate', data=new_data)\n",
    "plt.title('Exchange Rate Over Time')\n",
    "\n",
    "plt.tight_layout()\n",
    "plt.show()"
   ]
  },
  {
   "cell_type": "markdown",
   "metadata": {},
   "source": [
    "# Calculate Correlation Matrix:\n",
    "\n",
    "This will show the correlation coefficients between all pairs of variables"
   ]
  },
  {
   "cell_type": "code",
   "execution_count": 24,
   "metadata": {},
   "outputs": [
    {
     "data": {
      "image/png": "[encoded data removed]",
      "text/plain": [
       "<Figure size 720x432 with 2 Axes>"
      ]
     },
     "metadata": {
      "needs_background": "light"
     },
     "output_type": "display_data"
    },
    {
     "data": {
      "text/html": [
       "<div>\n",
       "<style scoped>\n",
       "    .dataframe tbody tr th:only-of-type {\n",
       "        vertical-align: middle;\n",
       "    }\n",
       "\n",
       "    .dataframe tbody tr th {\n",
       "        vertical-align: top;\n",
       "    }\n",
       "\n",
       "    .dataframe thead th {\n",
       "        text-align: right;\n",
       "    }\n",
       "</style>\n",
       "<table border=\"1\" class=\"dataframe\">\n",
       "  <thead>\n",
       "    <tr style=\"text-align: right;\">\n",
       "      <th></th>\n",
       "      <th>Stock_Close</th>\n",
       "      <th>Inflation</th>\n",
       "      <th>M1</th>\n",
       "      <th>Exchange_Rate</th>\n",
       "    </tr>\n",
       "  </thead>\n",
       "  <tbody>\n",
       "    <tr>\n",
       "      <th>Stock_Close</th>\n",
       "      <td>1.000000</td>\n",
       "      <td>0.406152</td>\n",
       "      <td>0.922831</td>\n",
       "      <td>-0.202025</td>\n",
       "    </tr>\n",
       "    <tr>\n",
       "      <th>Inflation</th>\n",
       "      <td>0.406152</td>\n",
       "      <td>1.000000</td>\n",
       "      <td>0.520890</td>\n",
       "      <td>-0.100251</td>\n",
       "    </tr>\n",
       "    <tr>\n",
       "      <th>M1</th>\n",
       "      <td>0.922831</td>\n",
       "      <td>0.520890</td>\n",
       "      <td>1.000000</td>\n",
       "      <td>-0.202597</td>\n",
       "    </tr>\n",
       "    <tr>\n",
       "      <th>Exchange_Rate</th>\n",
       "      <td>-0.202025</td>\n",
       "      <td>-0.100251</td>\n",
       "      <td>-0.202597</td>\n",
       "      <td>1.000000</td>\n",
       "    </tr>\n",
       "  </tbody>\n",
       "</table>\n",
       "</div>"
      ],
      "text/plain": [
       "               Stock_Close  Inflation        M1  Exchange_Rate\n",
       "Stock_Close       1.000000   0.406152  0.922831      -0.202025\n",
       "Inflation         0.406152   1.000000  0.520890      -0.100251\n",
       "M1                0.922831   0.520890  1.000000      -0.202597\n",
       "Exchange_Rate    -0.202025  -0.100251 -0.202597       1.000000"
      ]
     },
     "execution_count": 24,
     "metadata": {},
     "output_type": "execute_result"
    }
   ],
   "source": [
    "# Calculate correlation matrix\n",
    "correlation_matrix = new_data[['Stock_Close', 'Inflation', 'M1', 'Exchange_Rate']].corr()\n",
    "\n",
    "# Plot the correlation matrix\n",
    "plt.figure(figsize=(10, 6))\n",
    "sns.heatmap(correlation_matrix, annot=True, cmap='coolwarm', vmin=-1, vmax=1)\n",
    "plt.title('Correlation Matrix')\n",
    "plt.show()\n",
    "\n",
    "# Display the correlation matrix\n",
    "correlation_matrix"
   ]
  },
  {
   "cell_type": "markdown",
   "metadata": {},
   "source": [
    "Key Observations:\n",
    "\n",
    "Stock_Close vs. M1:\n",
    "High Positive Correlation (0.922831): This strong correlation indicates that as the M1 money supply increases, the stock market performance (Stock_Close) also tends to increase significantly. This suggests that more money in circulation leads to higher stock market prices.\n",
    "\n",
    "Stock_Close vs. Inflation:\n",
    "Moderate Positive Correlation (0.406152): This moderate correlation suggests that there is some relationship between inflation and stock market performance, but it is not as strong as the correlation between Stock_Close and M1.\n",
    "\n",
    "Inflation vs. M1:\n",
    "Moderate Positive Correlation (0.520890): This indicates that an increase in the money supply is somewhat associated with an increase in inflation. This is expected, as more money in circulation can lead to higher prices.\n",
    "\n",
    "Exchange_Rate vs. Stock_Close, Inflation, and M1:\n",
    "Negative Correlations: Exchange_Rate shows a weak negative correlation with Stock_Close (-0.202025), Inflation (-0.100251), and M1 (-0.202597). This suggests that an increase in the exchange rate (indicating a weaker USD) is slightly associated with lower stock market performance, lower inflation, and lower money supply."
   ]
  },
  {
   "cell_type": "markdown",
   "metadata": {},
   "source": [
    "# Time-Shifted Correlation Matrix\n",
    "Check if changes in one variable precede changes in another."
   ]
  },
  {
   "cell_type": "code",
   "execution_count": 25,
   "metadata": {},
   "outputs": [
    {
     "data": {
      "image/png": "[encoded data removed]",
      "text/plain": [
       "<Figure size 432x288 with 2 Axes>"
      ]
     },
     "metadata": {
      "needs_background": "light"
     },
     "output_type": "display_data"
    },
    {
     "data": {
      "text/html": [
       "<div>\n",
       "<style scoped>\n",
       "    .dataframe tbody tr th:only-of-type {\n",
       "        vertical-align: middle;\n",
       "    }\n",
       "\n",
       "    .dataframe tbody tr th {\n",
       "        vertical-align: top;\n",
       "    }\n",
       "\n",
       "    .dataframe thead th {\n",
       "        text-align: right;\n",
       "    }\n",
       "</style>\n",
       "<table border=\"1\" class=\"dataframe\">\n",
       "  <thead>\n",
       "    <tr style=\"text-align: right;\">\n",
       "      <th></th>\n",
       "      <th>M1_shifted</th>\n",
       "      <th>Inflation</th>\n",
       "      <th>Stock_Close</th>\n",
       "      <th>Exchange_Rate</th>\n",
       "    </tr>\n",
       "  </thead>\n",
       "  <tbody>\n",
       "    <tr>\n",
       "      <th>M1_shifted</th>\n",
       "      <td>1.000000</td>\n",
       "      <td>0.521491</td>\n",
       "      <td>0.922923</td>\n",
       "      <td>-0.202556</td>\n",
       "    </tr>\n",
       "    <tr>\n",
       "      <th>Inflation</th>\n",
       "      <td>0.521491</td>\n",
       "      <td>1.000000</td>\n",
       "      <td>0.406152</td>\n",
       "      <td>-0.100251</td>\n",
       "    </tr>\n",
       "    <tr>\n",
       "      <th>Stock_Close</th>\n",
       "      <td>0.922923</td>\n",
       "      <td>0.406152</td>\n",
       "      <td>1.000000</td>\n",
       "      <td>-0.202025</td>\n",
       "    </tr>\n",
       "    <tr>\n",
       "      <th>Exchange_Rate</th>\n",
       "      <td>-0.202556</td>\n",
       "      <td>-0.100251</td>\n",
       "      <td>-0.202025</td>\n",
       "      <td>1.000000</td>\n",
       "    </tr>\n",
       "  </tbody>\n",
       "</table>\n",
       "</div>"
      ],
      "text/plain": [
       "               M1_shifted  Inflation  Stock_Close  Exchange_Rate\n",
       "M1_shifted       1.000000   0.521491     0.922923      -0.202556\n",
       "Inflation        0.521491   1.000000     0.406152      -0.100251\n",
       "Stock_Close      0.922923   0.406152     1.000000      -0.202025\n",
       "Exchange_Rate   -0.202556  -0.100251    -0.202025       1.000000"
      ]
     },
     "execution_count": 25,
     "metadata": {},
     "output_type": "execute_result"
    }
   ],
   "source": [
    "# Shift M1 and Inflation columns\n",
    "new_data1 = new_data.copy()  # Ensure you are working with a copy\n",
    "\n",
    "new_data1['M1_shifted'] = new_data1['M1'].shift(1)  # Shift M1 by one period\n",
    "new_data1['Inflation_shifted'] = new_data1['Inflation'].shift(1)  # Shift Inflation by one period\n",
    "\n",
    "# Calculate correlation matrix again with shifted columns\n",
    "shifted_correlation_matrix = new_data1[['M1_shifted', 'Inflation', 'Stock_Close', 'Exchange_Rate']].corr()\n",
    "sns.heatmap(shifted_correlation_matrix, annot=True, cmap='coolwarm')\n",
    "plt.title('Shifted Correlation Matrix')\n",
    "plt.show()\n",
    "\n",
    "shifted_correlation_matrix"
   ]
  },
  {
   "cell_type": "markdown",
   "metadata": {},
   "source": [
    "Key Observations:\n",
    "\n",
    "M1_shifted vs. Inflation:\n",
    "Moderate Positive Correlation (0.521491): This is slightly higher than the non-shifted correlation (0.520890), indicating that there may be a time-lagged effect where changes in the money supply lead to changes in inflation.\n",
    "\n",
    "M1_shifted vs. Stock_Close:\n",
    "High Positive Correlation (0.922923): The correlation remains strong and almost unchanged compared to the non-shifted data. This reinforces the idea that the money supply has a significant and almost immediate impact on stock market performance.\n",
    "\n",
    "Exchange_Rate:\n",
    "Consistent Negative Correlations: The slight increase in negative correlation with M1_shifted (-0.202556) and minimal change with other variables suggest that the exchange rate's relationship with these variables remains weakly negative, even when considering time shifts."
   ]
  },
  {
   "cell_type": "markdown",
   "metadata": {},
   "source": [
    "## Theoretical Framework\n",
    "\n",
    "# Theory:\n",
    "Increased M1 money supply leads to stock market appreciation and increased inflation, while the exchange rate shows a weaker relationship with these variables.\n",
    "\n",
    "Breaking down this theory and reference the observed correlations:\n",
    "\n",
    "1. # M1 Money Supply and Stock Market Performance:\n",
    "Observation: There is a high positive correlation (0.922831) between M1 money supply and Stock_Close.\n",
    "Theory: As the M1 money supply increases, there is more liquidity in the economy. This increased liquidity often results in more investment in the stock market, driving up stock prices. Therefore, an increase in the M1 money supply leads to stock market appreciation.\n",
    "\n",
    "2. # M1 Money Supply and Inflation:\n",
    "Observation: There is a moderate positive correlation (0.520890) between M1 money supply and Inflation.\n",
    "Theory: When the money supply increases, more money chases the same amount of goods and services, leading to higher prices. This relationship indicates that an increase in the M1 money supply can lead to higher inflation. The moderate correlation suggests that other factors also play a role in influencing inflation.\n",
    "\n",
    "3. # M1 Money Supply (Shifted) and Inflation:\n",
    "Observation: The time-shifted correlation (0.521491) between M1_shifted and Inflation is slightly higher than the non-shifted correlation.\n",
    "Theory: This suggests a potential lag effect where changes in the money supply might take some time to influence inflation. This lag can occur due to delays in how monetary policy impacts the economy or how businesses and consumers react to changes in money supply.\n",
    "\n",
    "4. # Exchange Rate and Other Variables:\n",
    "Observation: The exchange rate shows weak negative correlations with Stock_Close (-0.202025), Inflation (-0.100251), and M1 (-0.202597).\n",
    "Theory: The exchange rate's weak negative correlation with these variables indicates that when the exchange rate increases (USD weakens), there is a slight tendency for lower stock market performance, lower inflation, and lower money supply. However, these relationships are not strong, suggesting that the exchange rate is influenced by a broader range of factors beyond just the M1 money supply and stock market performance.\n",
    "\n",
    "5. # Stock Market Performance and Inflation:\n",
    "Observation: There is a moderate positive correlation (0.406152) between Stock_Close and Inflation.\n",
    "Theory: This relationship suggests that as the stock market appreciates, there is a tendency for inflation to increase. This could be due to a wealth effect, where higher stock prices increase consumer wealth and spending, leading to higher demand and prices.\n",
    "\n",
    "# Conclusion:\n",
    "The observed correlations support the theory that an increased M1 money supply leads to stock market appreciation and increased inflation. The exchange rate shows a weaker relationship with these variables, indicating it is influenced by a broader range of factors. The time-shifted analysis suggests that changes in the money supply can have delayed effects on inflation. Overall, these relationships highlight the interconnected nature of monetary policy, stock market performance, and inflation.\n",
    "\n",
    "\n",
    "# Theory Summary:\n",
    "we found out that:\n",
    "\n",
    "High positive correlation between M1 and Stock_Close: Increased money supply leads to stock market appreciation.\n",
    "Moderate positive correlation between M1 and Inflation: Increased money supply leads to higher inflation.\n",
    "Weak negative correlations of Exchange_Rate with Stock_Close, Inflation, and M1: Exchange rate shows a weaker relationship with these variables.\n",
    "Moderate positive correlation between Stock_Close and Inflation: Stock market appreciation is associated with higher inflation.\n",
    "Time-shifted correlation analysis: Changes in money supply can have delayed effects on inflation."
   ]
  },
  {
   "cell_type": "markdown",
   "metadata": {},
   "source": [
    "## Productivity Model\n",
    " Objective:\n",
    "Develop a model combining the three variables (Stock_Close, Inflation, M1) to calculate productivity and analyze its trends.\n",
    "\n",
    "Steps and Detailed Codes:\n",
    "1. Formulate the Productivity Model: we'll create a productivity measure based on the provided variables. we would be using this Productivity formula\n",
    "\n",
    "Stock_Close\n",
    "Inflation\n",
    "×\n",
    "M1\n",
    "Productivity= \n",
    "Inflation\n",
    "Stock_Close\n",
    "​\n",
    " ×M1"
   ]
  },
  {
   "cell_type": "code",
   "execution_count": 26,
   "metadata": {},
   "outputs": [
    {
     "data": {
      "text/html": [
       "<div>\n",
       "<style scoped>\n",
       "    .dataframe tbody tr th:only-of-type {\n",
       "        vertical-align: middle;\n",
       "    }\n",
       "\n",
       "    .dataframe tbody tr th {\n",
       "        vertical-align: top;\n",
       "    }\n",
       "\n",
       "    .dataframe thead th {\n",
       "        text-align: right;\n",
       "    }\n",
       "</style>\n",
       "<table border=\"1\" class=\"dataframe\">\n",
       "  <thead>\n",
       "    <tr style=\"text-align: right;\">\n",
       "      <th></th>\n",
       "      <th>Date</th>\n",
       "      <th>Stock_Close</th>\n",
       "      <th>Inflation</th>\n",
       "      <th>M1</th>\n",
       "      <th>Exchange_Rate</th>\n",
       "    </tr>\n",
       "  </thead>\n",
       "  <tbody>\n",
       "    <tr>\n",
       "      <th>0</th>\n",
       "      <td>1975-01-06</td>\n",
       "      <td>1277.060059</td>\n",
       "      <td>0.033</td>\n",
       "      <td>273.4</td>\n",
       "      <td>1.1220</td>\n",
       "    </tr>\n",
       "    <tr>\n",
       "      <th>1</th>\n",
       "      <td>1975-01-13</td>\n",
       "      <td>1277.060059</td>\n",
       "      <td>0.033</td>\n",
       "      <td>273.7</td>\n",
       "      <td>1.1220</td>\n",
       "    </tr>\n",
       "    <tr>\n",
       "      <th>2</th>\n",
       "      <td>1975-01-20</td>\n",
       "      <td>1277.060059</td>\n",
       "      <td>0.033</td>\n",
       "      <td>273.8</td>\n",
       "      <td>1.1220</td>\n",
       "    </tr>\n",
       "    <tr>\n",
       "      <th>3</th>\n",
       "      <td>1975-01-27</td>\n",
       "      <td>1277.060059</td>\n",
       "      <td>0.033</td>\n",
       "      <td>273.7</td>\n",
       "      <td>1.1220</td>\n",
       "    </tr>\n",
       "    <tr>\n",
       "      <th>4</th>\n",
       "      <td>1975-02-03</td>\n",
       "      <td>1277.060059</td>\n",
       "      <td>0.033</td>\n",
       "      <td>275.2</td>\n",
       "      <td>1.1220</td>\n",
       "    </tr>\n",
       "    <tr>\n",
       "      <th>...</th>\n",
       "      <td>...</td>\n",
       "      <td>...</td>\n",
       "      <td>...</td>\n",
       "      <td>...</td>\n",
       "      <td>...</td>\n",
       "    </tr>\n",
       "    <tr>\n",
       "      <th>5290</th>\n",
       "      <td>2024-07-15</td>\n",
       "      <td>5631.220215</td>\n",
       "      <td>0.030</td>\n",
       "      <td>18085.9</td>\n",
       "      <td>1.0912</td>\n",
       "    </tr>\n",
       "    <tr>\n",
       "      <th>5291</th>\n",
       "      <td>2024-07-16</td>\n",
       "      <td>5667.200195</td>\n",
       "      <td>0.030</td>\n",
       "      <td>18085.9</td>\n",
       "      <td>1.0885</td>\n",
       "    </tr>\n",
       "    <tr>\n",
       "      <th>5292</th>\n",
       "      <td>2024-07-17</td>\n",
       "      <td>5588.270020</td>\n",
       "      <td>0.030</td>\n",
       "      <td>18085.9</td>\n",
       "      <td>1.0933</td>\n",
       "    </tr>\n",
       "    <tr>\n",
       "      <th>5293</th>\n",
       "      <td>2024-07-18</td>\n",
       "      <td>5544.589844</td>\n",
       "      <td>0.030</td>\n",
       "      <td>18085.9</td>\n",
       "      <td>1.0913</td>\n",
       "    </tr>\n",
       "    <tr>\n",
       "      <th>5294</th>\n",
       "      <td>2024-07-19</td>\n",
       "      <td>5505.000000</td>\n",
       "      <td>0.030</td>\n",
       "      <td>18085.9</td>\n",
       "      <td>1.0888</td>\n",
       "    </tr>\n",
       "  </tbody>\n",
       "</table>\n",
       "<p>5295 rows × 5 columns</p>\n",
       "</div>"
      ],
      "text/plain": [
       "           Date  Stock_Close  Inflation       M1  Exchange_Rate\n",
       "0    1975-01-06  1277.060059      0.033    273.4         1.1220\n",
       "1    1975-01-13  1277.060059      0.033    273.7         1.1220\n",
       "2    1975-01-20  1277.060059      0.033    273.8         1.1220\n",
       "3    1975-01-27  1277.060059      0.033    273.7         1.1220\n",
       "4    1975-02-03  1277.060059      0.033    275.2         1.1220\n",
       "...         ...          ...        ...      ...            ...\n",
       "5290 2024-07-15  5631.220215      0.030  18085.9         1.0912\n",
       "5291 2024-07-16  5667.200195      0.030  18085.9         1.0885\n",
       "5292 2024-07-17  5588.270020      0.030  18085.9         1.0933\n",
       "5293 2024-07-18  5544.589844      0.030  18085.9         1.0913\n",
       "5294 2024-07-19  5505.000000      0.030  18085.9         1.0888\n",
       "\n",
       "[5295 rows x 5 columns]"
      ]
     },
     "execution_count": 26,
     "metadata": {},
     "output_type": "execute_result"
    }
   ],
   "source": [
    "new_data"
   ]
  },
  {
   "cell_type": "code",
   "execution_count": 27,
   "metadata": {},
   "outputs": [
    {
     "data": {
      "text/plain": [
       "<bound method DataFrame.dropna of            Date  Stock_Close  Inflation       M1  Exchange_Rate\n",
       "0    1975-01-06  1277.060059      0.033    273.4         1.1220\n",
       "1    1975-01-13  1277.060059      0.033    273.7         1.1220\n",
       "2    1975-01-20  1277.060059      0.033    273.8         1.1220\n",
       "3    1975-01-27  1277.060059      0.033    273.7         1.1220\n",
       "4    1975-02-03  1277.060059      0.033    275.2         1.1220\n",
       "...         ...          ...        ...      ...            ...\n",
       "5290 2024-07-15  5631.220215      0.030  18085.9         1.0912\n",
       "5291 2024-07-16  5667.200195      0.030  18085.9         1.0885\n",
       "5292 2024-07-17  5588.270020      0.030  18085.9         1.0933\n",
       "5293 2024-07-18  5544.589844      0.030  18085.9         1.0913\n",
       "5294 2024-07-19  5505.000000      0.030  18085.9         1.0888\n",
       "\n",
       "[5295 rows x 5 columns]>"
      ]
     },
     "execution_count": 27,
     "metadata": {},
     "output_type": "execute_result"
    }
   ],
   "source": [
    "new_data.dropna"
   ]
  },
  {
   "cell_type": "code",
   "execution_count": 29,
   "metadata": {},
   "outputs": [
    {
     "data": {
      "text/html": [
       "<div>\n",
       "<style scoped>\n",
       "    .dataframe tbody tr th:only-of-type {\n",
       "        vertical-align: middle;\n",
       "    }\n",
       "\n",
       "    .dataframe tbody tr th {\n",
       "        vertical-align: top;\n",
       "    }\n",
       "\n",
       "    .dataframe thead th {\n",
       "        text-align: right;\n",
       "    }\n",
       "</style>\n",
       "<table border=\"1\" class=\"dataframe\">\n",
       "  <thead>\n",
       "    <tr style=\"text-align: right;\">\n",
       "      <th></th>\n",
       "      <th>Date</th>\n",
       "      <th>Stock_Close</th>\n",
       "      <th>Inflation</th>\n",
       "      <th>M1</th>\n",
       "      <th>Exchange_Rate</th>\n",
       "      <th>Productivity</th>\n",
       "    </tr>\n",
       "  </thead>\n",
       "  <tbody>\n",
       "    <tr>\n",
       "      <th>0</th>\n",
       "      <td>1975-01-06</td>\n",
       "      <td>1277.060059</td>\n",
       "      <td>0.033</td>\n",
       "      <td>273.4</td>\n",
       "      <td>1.122</td>\n",
       "      <td>1.058025e+07</td>\n",
       "    </tr>\n",
       "    <tr>\n",
       "      <th>1</th>\n",
       "      <td>1975-01-13</td>\n",
       "      <td>1277.060059</td>\n",
       "      <td>0.033</td>\n",
       "      <td>273.7</td>\n",
       "      <td>1.122</td>\n",
       "      <td>1.059186e+07</td>\n",
       "    </tr>\n",
       "    <tr>\n",
       "      <th>2</th>\n",
       "      <td>1975-01-20</td>\n",
       "      <td>1277.060059</td>\n",
       "      <td>0.033</td>\n",
       "      <td>273.8</td>\n",
       "      <td>1.122</td>\n",
       "      <td>1.059573e+07</td>\n",
       "    </tr>\n",
       "    <tr>\n",
       "      <th>3</th>\n",
       "      <td>1975-01-27</td>\n",
       "      <td>1277.060059</td>\n",
       "      <td>0.033</td>\n",
       "      <td>273.7</td>\n",
       "      <td>1.122</td>\n",
       "      <td>1.059186e+07</td>\n",
       "    </tr>\n",
       "    <tr>\n",
       "      <th>4</th>\n",
       "      <td>1975-02-03</td>\n",
       "      <td>1277.060059</td>\n",
       "      <td>0.033</td>\n",
       "      <td>275.2</td>\n",
       "      <td>1.122</td>\n",
       "      <td>1.064991e+07</td>\n",
       "    </tr>\n",
       "  </tbody>\n",
       "</table>\n",
       "</div>"
      ],
      "text/plain": [
       "        Date  Stock_Close  Inflation     M1  Exchange_Rate  Productivity\n",
       "0 1975-01-06  1277.060059      0.033  273.4          1.122  1.058025e+07\n",
       "1 1975-01-13  1277.060059      0.033  273.7          1.122  1.059186e+07\n",
       "2 1975-01-20  1277.060059      0.033  273.8          1.122  1.059573e+07\n",
       "3 1975-01-27  1277.060059      0.033  273.7          1.122  1.059186e+07\n",
       "4 1975-02-03  1277.060059      0.033  275.2          1.122  1.064991e+07"
      ]
     },
     "execution_count": 29,
     "metadata": {},
     "output_type": "execute_result"
    }
   ],
   "source": [
    "# Calculate Productivity\n",
    "new_data2=new_data.copy()\n",
    "\n",
    "new_data2['Productivity'] = (new_data2['Stock_Close'] / new_data2['Inflation']) * new_data2['M1']\n",
    "\n",
    "# Display the first few rows to check the calculation\n",
    "new_data2.head()"
   ]
  },
  {
   "cell_type": "markdown",
   "metadata": {},
   "source": [
    "## Analyze Productivity Trends:\n",
    "\n",
    "Plot productivity over time to visualize trends."
   ]
  },
  {
   "cell_type": "code",
   "execution_count": 30,
   "metadata": {},
   "outputs": [
    {
     "data": {
      "image/png": "[encoded data removed]",
      "text/plain": [
       "<Figure size 720x432 with 1 Axes>"
      ]
     },
     "metadata": {
      "needs_background": "light"
     },
     "output_type": "display_data"
    }
   ],
   "source": [
    "# Convert 'Date' to datetime format if it's not already\n",
    "new_data2['Date'] = pd.to_datetime(new_data2['Date'])\n",
    "\n",
    "# Plot Productivity over time\n",
    "plt.figure(figsize=(10, 6))\n",
    "plt.plot(new_data2['Date'], new_data2['Productivity'], label='Productivity', color='b')\n",
    "plt.title('Productivity Over Time')\n",
    "plt.xlabel('Date')\n",
    "plt.ylabel('Productivity')\n",
    "plt.legend()\n",
    "plt.grid(True)\n",
    "plt.show()"
   ]
  },
  {
   "cell_type": "markdown",
   "metadata": {},
   "source": [
    "## Calculating Productivity Baseline:\n",
    "\n",
    "Develop an appropriate formula for the productivity baseline. One approach could be to use changes in M1 and Inflation:\n",
    "\n",
    "Baseline Productivity=( \n",
    "Past M1/\n",
    "Current M1\n",
    "​\n",
    " )×( \n",
    "Past Inflation/\n",
    "Current Inflation\n",
    "​\n",
    " )"
   ]
  },
  {
   "cell_type": "code",
   "execution_count": 31,
   "metadata": {},
   "outputs": [
    {
     "data": {
      "text/html": [
       "<div>\n",
       "<style scoped>\n",
       "    .dataframe tbody tr th:only-of-type {\n",
       "        vertical-align: middle;\n",
       "    }\n",
       "\n",
       "    .dataframe tbody tr th {\n",
       "        vertical-align: top;\n",
       "    }\n",
       "\n",
       "    .dataframe thead th {\n",
       "        text-align: right;\n",
       "    }\n",
       "</style>\n",
       "<table border=\"1\" class=\"dataframe\">\n",
       "  <thead>\n",
       "    <tr style=\"text-align: right;\">\n",
       "      <th></th>\n",
       "      <th>Date</th>\n",
       "      <th>Stock_Close</th>\n",
       "      <th>Inflation</th>\n",
       "      <th>M1</th>\n",
       "      <th>Exchange_Rate</th>\n",
       "      <th>Productivity</th>\n",
       "      <th>M1_change</th>\n",
       "      <th>Inflation_change</th>\n",
       "      <th>Baseline_Productivity</th>\n",
       "    </tr>\n",
       "  </thead>\n",
       "  <tbody>\n",
       "    <tr>\n",
       "      <th>0</th>\n",
       "      <td>1975-01-06</td>\n",
       "      <td>1277.060059</td>\n",
       "      <td>0.033</td>\n",
       "      <td>273.4</td>\n",
       "      <td>1.122</td>\n",
       "      <td>1.058025e+07</td>\n",
       "      <td>NaN</td>\n",
       "      <td>NaN</td>\n",
       "      <td>NaN</td>\n",
       "    </tr>\n",
       "    <tr>\n",
       "      <th>1</th>\n",
       "      <td>1975-01-13</td>\n",
       "      <td>1277.060059</td>\n",
       "      <td>0.033</td>\n",
       "      <td>273.7</td>\n",
       "      <td>1.122</td>\n",
       "      <td>1.059186e+07</td>\n",
       "      <td>1.001097</td>\n",
       "      <td>1.0</td>\n",
       "      <td>1.001097</td>\n",
       "    </tr>\n",
       "    <tr>\n",
       "      <th>2</th>\n",
       "      <td>1975-01-20</td>\n",
       "      <td>1277.060059</td>\n",
       "      <td>0.033</td>\n",
       "      <td>273.8</td>\n",
       "      <td>1.122</td>\n",
       "      <td>1.059573e+07</td>\n",
       "      <td>1.000365</td>\n",
       "      <td>1.0</td>\n",
       "      <td>1.000365</td>\n",
       "    </tr>\n",
       "    <tr>\n",
       "      <th>3</th>\n",
       "      <td>1975-01-27</td>\n",
       "      <td>1277.060059</td>\n",
       "      <td>0.033</td>\n",
       "      <td>273.7</td>\n",
       "      <td>1.122</td>\n",
       "      <td>1.059186e+07</td>\n",
       "      <td>0.999635</td>\n",
       "      <td>1.0</td>\n",
       "      <td>0.999635</td>\n",
       "    </tr>\n",
       "    <tr>\n",
       "      <th>4</th>\n",
       "      <td>1975-02-03</td>\n",
       "      <td>1277.060059</td>\n",
       "      <td>0.033</td>\n",
       "      <td>275.2</td>\n",
       "      <td>1.122</td>\n",
       "      <td>1.064991e+07</td>\n",
       "      <td>1.005480</td>\n",
       "      <td>1.0</td>\n",
       "      <td>1.005480</td>\n",
       "    </tr>\n",
       "  </tbody>\n",
       "</table>\n",
       "</div>"
      ],
      "text/plain": [
       "        Date  Stock_Close  Inflation     M1  Exchange_Rate  Productivity  \\\n",
       "0 1975-01-06  1277.060059      0.033  273.4          1.122  1.058025e+07   \n",
       "1 1975-01-13  1277.060059      0.033  273.7          1.122  1.059186e+07   \n",
       "2 1975-01-20  1277.060059      0.033  273.8          1.122  1.059573e+07   \n",
       "3 1975-01-27  1277.060059      0.033  273.7          1.122  1.059186e+07   \n",
       "4 1975-02-03  1277.060059      0.033  275.2          1.122  1.064991e+07   \n",
       "\n",
       "   M1_change  Inflation_change  Baseline_Productivity  \n",
       "0        NaN               NaN                    NaN  \n",
       "1   1.001097               1.0               1.001097  \n",
       "2   1.000365               1.0               1.000365  \n",
       "3   0.999635               1.0               0.999635  \n",
       "4   1.005480               1.0               1.005480  "
      ]
     },
     "execution_count": 31,
     "metadata": {},
     "output_type": "execute_result"
    }
   ],
   "source": [
    "# Calculate changes in M1 and Inflation\n",
    "new_data2['M1_change'] = new_data2['M1'] / new_data2['M1'].shift(1)\n",
    "new_data2['Inflation_change'] = new_data2['Inflation'] / new_data2['Inflation'].shift(1)\n",
    "\n",
    "# Calculate Baseline Productivity\n",
    "new_data2['Baseline_Productivity'] = new_data2['M1_change'] * new_data2['Inflation_change']\n",
    "\n",
    "# Display the first few rows to check the calculation\n",
    "new_data2.head()"
   ]
  },
  {
   "cell_type": "markdown",
   "metadata": {},
   "source": [
    "# Compare Actual Productivity with Baseline Productivity:\n",
    "\n",
    "Plot both actual productivity and baseline productivity together."
   ]
  },
  {
   "cell_type": "code",
   "execution_count": 32,
   "metadata": {},
   "outputs": [
    {
     "data": {
      "image/png": "[encoded data removed]",
      "text/plain": [
       "<Figure size 720x432 with 1 Axes>"
      ]
     },
     "metadata": {
      "needs_background": "light"
     },
     "output_type": "display_data"
    }
   ],
   "source": [
    "# Plot Actual vs Baseline Productivity\n",
    "plt.figure(figsize=(10, 6))\n",
    "plt.plot(new_data2['Date'], new_data2['Productivity'], label='Actual Productivity', color='b')\n",
    "plt.plot(new_data2['Date'], new_data2['Baseline_Productivity'], label='Baseline Productivity', linestyle='--', color='r')\n",
    "plt.title('Actual vs Baseline Productivity')\n",
    "plt.xlabel('Date')\n",
    "plt.ylabel('Productivity')\n",
    "plt.legend()\n",
    "plt.grid(True)\n",
    "plt.show()"
   ]
  },
  {
   "cell_type": "markdown",
   "metadata": {},
   "source": [
    "# Currency Devaluation:\n",
    "\n",
    "Calculate real currency devaluation. Using a hypothetical scenario where M1 is stable and comparing the actual exchange rate with this scenario."
   ]
  },
  {
   "cell_type": "code",
   "execution_count": 34,
   "metadata": {},
   "outputs": [
    {
     "data": {
      "text/html": [
       "<div>\n",
       "<style scoped>\n",
       "    .dataframe tbody tr th:only-of-type {\n",
       "        vertical-align: middle;\n",
       "    }\n",
       "\n",
       "    .dataframe tbody tr th {\n",
       "        vertical-align: top;\n",
       "    }\n",
       "\n",
       "    .dataframe thead th {\n",
       "        text-align: right;\n",
       "    }\n",
       "</style>\n",
       "<table border=\"1\" class=\"dataframe\">\n",
       "  <thead>\n",
       "    <tr style=\"text-align: right;\">\n",
       "      <th></th>\n",
       "      <th>Date</th>\n",
       "      <th>Stock_Close</th>\n",
       "      <th>Inflation</th>\n",
       "      <th>M1</th>\n",
       "      <th>Exchange_Rate</th>\n",
       "      <th>Productivity</th>\n",
       "      <th>M1_change</th>\n",
       "      <th>Inflation_change</th>\n",
       "      <th>Baseline_Productivity</th>\n",
       "      <th>Hypothetical_Exchange_Rate</th>\n",
       "      <th>Real_Devaluation</th>\n",
       "    </tr>\n",
       "  </thead>\n",
       "  <tbody>\n",
       "    <tr>\n",
       "      <th>0</th>\n",
       "      <td>1975-01-06</td>\n",
       "      <td>1277.060059</td>\n",
       "      <td>0.033</td>\n",
       "      <td>273.4</td>\n",
       "      <td>1.122</td>\n",
       "      <td>1.058025e+07</td>\n",
       "      <td>NaN</td>\n",
       "      <td>NaN</td>\n",
       "      <td>NaN</td>\n",
       "      <td>NaN</td>\n",
       "      <td>NaN</td>\n",
       "    </tr>\n",
       "    <tr>\n",
       "      <th>1</th>\n",
       "      <td>1975-01-13</td>\n",
       "      <td>1277.060059</td>\n",
       "      <td>0.033</td>\n",
       "      <td>273.7</td>\n",
       "      <td>1.122</td>\n",
       "      <td>1.059186e+07</td>\n",
       "      <td>1.001097</td>\n",
       "      <td>1.0</td>\n",
       "      <td>1.001097</td>\n",
       "      <td>1.123231</td>\n",
       "      <td>-0.001231</td>\n",
       "    </tr>\n",
       "    <tr>\n",
       "      <th>2</th>\n",
       "      <td>1975-01-20</td>\n",
       "      <td>1277.060059</td>\n",
       "      <td>0.033</td>\n",
       "      <td>273.8</td>\n",
       "      <td>1.122</td>\n",
       "      <td>1.059573e+07</td>\n",
       "      <td>1.000365</td>\n",
       "      <td>1.0</td>\n",
       "      <td>1.000365</td>\n",
       "      <td>1.122410</td>\n",
       "      <td>-0.000410</td>\n",
       "    </tr>\n",
       "    <tr>\n",
       "      <th>3</th>\n",
       "      <td>1975-01-27</td>\n",
       "      <td>1277.060059</td>\n",
       "      <td>0.033</td>\n",
       "      <td>273.7</td>\n",
       "      <td>1.122</td>\n",
       "      <td>1.059186e+07</td>\n",
       "      <td>0.999635</td>\n",
       "      <td>1.0</td>\n",
       "      <td>0.999635</td>\n",
       "      <td>1.121590</td>\n",
       "      <td>0.000410</td>\n",
       "    </tr>\n",
       "    <tr>\n",
       "      <th>4</th>\n",
       "      <td>1975-02-03</td>\n",
       "      <td>1277.060059</td>\n",
       "      <td>0.033</td>\n",
       "      <td>275.2</td>\n",
       "      <td>1.122</td>\n",
       "      <td>1.064991e+07</td>\n",
       "      <td>1.005480</td>\n",
       "      <td>1.0</td>\n",
       "      <td>1.005480</td>\n",
       "      <td>1.128149</td>\n",
       "      <td>-0.006149</td>\n",
       "    </tr>\n",
       "  </tbody>\n",
       "</table>\n",
       "</div>"
      ],
      "text/plain": [
       "        Date  Stock_Close  Inflation     M1  Exchange_Rate  Productivity  \\\n",
       "0 1975-01-06  1277.060059      0.033  273.4          1.122  1.058025e+07   \n",
       "1 1975-01-13  1277.060059      0.033  273.7          1.122  1.059186e+07   \n",
       "2 1975-01-20  1277.060059      0.033  273.8          1.122  1.059573e+07   \n",
       "3 1975-01-27  1277.060059      0.033  273.7          1.122  1.059186e+07   \n",
       "4 1975-02-03  1277.060059      0.033  275.2          1.122  1.064991e+07   \n",
       "\n",
       "   M1_change  Inflation_change  Baseline_Productivity  \\\n",
       "0        NaN               NaN                    NaN   \n",
       "1   1.001097               1.0               1.001097   \n",
       "2   1.000365               1.0               1.000365   \n",
       "3   0.999635               1.0               0.999635   \n",
       "4   1.005480               1.0               1.005480   \n",
       "\n",
       "   Hypothetical_Exchange_Rate  Real_Devaluation  \n",
       "0                         NaN               NaN  \n",
       "1                    1.123231         -0.001231  \n",
       "2                    1.122410         -0.000410  \n",
       "3                    1.121590          0.000410  \n",
       "4                    1.128149         -0.006149  "
      ]
     },
     "execution_count": 34,
     "metadata": {},
     "output_type": "execute_result"
    }
   ],
   "source": [
    "# Assuming a hypothetical scenario where M1 is stable\n",
    "new_data2['Hypothetical_Exchange_Rate'] = new_data2['Exchange_Rate'].shift(1) * new_data2['M1_change']\n",
    "\n",
    "# Calculate real currency devaluation\n",
    "new_data2['Real_Devaluation'] = new_data2['Exchange_Rate'] - new_data2['Hypothetical_Exchange_Rate']\n",
    "\n",
    "# Display the first few rows to check the calculation\n",
    "new_data2.head()"
   ]
  },
  {
   "cell_type": "code",
   "execution_count": 35,
   "metadata": {},
   "outputs": [
    {
     "data": {
      "image/png": "[encoded data removed]",
      "text/plain": [
       "<Figure size 720x432 with 1 Axes>"
      ]
     },
     "metadata": {
      "needs_background": "light"
     },
     "output_type": "display_data"
    }
   ],
   "source": [
    "# Plot Real Currency Devaluation over time\n",
    "plt.figure(figsize=(10, 6))\n",
    "plt.plot(new_data2['Date'], new_data2['Real_Devaluation'], label='Real Devaluation', color='g')\n",
    "plt.title('Real Currency Devaluation Over Time')\n",
    "plt.xlabel('Date')\n",
    "plt.ylabel('Real Devaluation')\n",
    "plt.legend()\n",
    "plt.grid(True)\n",
    "plt.show()"
   ]
  },
  {
   "cell_type": "code",
   "execution_count": null,
   "metadata": {},
   "outputs": [],
   "source": []
  }
 ],
 "metadata": {
  "kernelspec": {
   "display_name": "env",
   "language": "python",
   "name": "python3"
  },
  "language_info": {
   "codemirror_mode": {
    "name": "ipython",
    "version": 3
   },
   "file_extension": ".py",
   "mimetype": "text/x-python",
   "name": "python",
   "nbconvert_exporter": "python",
   "pygments_lexer": "ipython3",
   "version": "3.8.10"
  }
 },
 "nbformat": 4,
 "nbformat_minor": 2
}
